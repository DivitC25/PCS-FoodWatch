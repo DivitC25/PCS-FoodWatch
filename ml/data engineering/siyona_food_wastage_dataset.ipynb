{
  "nbformat": 4,
  "nbformat_minor": 0,
  "metadata": {
    "colab": {
      "provenance": []
    },
    "kernelspec": {
      "name": "python3",
      "display_name": "Python 3"
    },
    "language_info": {
      "name": "python"
    }
  },
  "cells": [
    {
      "cell_type": "markdown",
      "source": [
        "# Food Wastage DataSet\n",
        "Using the [FAO Database](https://www.fao.org/sustainable-development-goals-data-portal/data/)\n",
        "\n",
        "[Data Dictionary](https://sfcs.fao.org/docs/sdgindicatorslibraries/default-document-library/august-2023/data-dictionary-sdg-data-2023.xlsx?sfvrsn=357114e7_1)"
      ],
      "metadata": {
        "id": "ErpdslU2dZK9"
      }
    },
    {
      "cell_type": "code",
      "execution_count": 38,
      "metadata": {
        "id": "riE_K5CjdCQr"
      },
      "outputs": [],
      "source": [
        "import numpy as np\n",
        "import pandas as pd\n",
        "import requests\n",
        "from bs4 import BeautifulSoup"
      ]
    },
    {
      "cell_type": "code",
      "source": [
        "#Scrape CSV File From FAO Website\n",
        "page = requests.get(\"https://www.fao.org/sustainable-development-goals-data-portal/data/\")\n",
        "soup = BeautifulSoup(page.content, \"html.parser\")\n",
        "btn = soup.find(\"a\", class_= \"btn btn-primary btn-icon d-block mb-3\")"
      ],
      "metadata": {
        "id": "t2rMj_5e379w"
      },
      "execution_count": 49,
      "outputs": []
    },
    {
      "cell_type": "code",
      "source": [
        "#Convert File Into DataFrame\n",
        "df = pd.read_csv(btn['href'])"
      ],
      "metadata": {
        "colab": {
          "base_uri": "https://localhost:8080/"
        },
        "id": "u2-d7G0dCSwi",
        "outputId": "cd47bfbc-7086-4e82-ed93-a1c5d16bd6e4"
      },
      "execution_count": 51,
      "outputs": [
        {
          "output_type": "stream",
          "name": "stderr",
          "text": [
            "<ipython-input-51-bde63e3f7c38>:2: DtypeWarning: Columns (7,8) have mixed types. Specify dtype option on import or set low_memory=False.\n",
            "  df = pd.read_csv(btn['href'])\n"
          ]
        }
      ]
    }
  ]
}