{
 "cells": [
  {
   "cell_type": "code",
   "execution_count": 3,
   "metadata": {
    "scrolled": true,
    "tags": []
   },
   "outputs": [
    {
     "data": {
      "text/plain": [
       "[['Aruba', 'AW'],\n",
       " ['Afghanistan', 'AF'],\n",
       " ['Angola', 'AO'],\n",
       " ['Anguilla', 'AI'],\n",
       " ['Åland Islands', 'AX'],\n",
       " ['Albania', 'AL'],\n",
       " ['Andorra', 'AD'],\n",
       " ['United Arab Emirates', 'AE'],\n",
       " ['Argentina', 'AR'],\n",
       " ['Armenia', 'AM'],\n",
       " ['American Samoa', 'AS'],\n",
       " ['Antarctica', 'AQ'],\n",
       " ['French Southern Territories', 'TF'],\n",
       " ['Antigua and Barbuda', 'AG'],\n",
       " ['Australia', 'AU'],\n",
       " ['Austria', 'AT'],\n",
       " ['Azerbaijan', 'AZ'],\n",
       " ['Burundi', 'BI'],\n",
       " ['Belgium', 'BE'],\n",
       " ['Benin', 'BJ'],\n",
       " ['Bonaire, Sint Eustatius and Saba', 'BQ'],\n",
       " ['Burkina Faso', 'BF'],\n",
       " ['Bangladesh', 'BD'],\n",
       " ['Bulgaria', 'BG'],\n",
       " ['Bahrain', 'BH'],\n",
       " ['Bahamas', 'BS'],\n",
       " ['Bosnia and Herzegovina', 'BA'],\n",
       " ['Saint Barthélemy', 'BL'],\n",
       " ['Belarus', 'BY'],\n",
       " ['Belize', 'BZ'],\n",
       " ['Bermuda', 'BM'],\n",
       " ['Bolivia, Plurinational State of', 'BO'],\n",
       " ['Brazil', 'BR'],\n",
       " ['Barbados', 'BB'],\n",
       " ['Brunei Darussalam', 'BN'],\n",
       " ['Bhutan', 'BT'],\n",
       " ['Bouvet Island', 'BV'],\n",
       " ['Botswana', 'BW'],\n",
       " ['Central African Republic', 'CF'],\n",
       " ['Canada', 'CA'],\n",
       " ['Cocos (Keeling) Islands', 'CC'],\n",
       " ['Switzerland', 'CH'],\n",
       " ['Chile', 'CL'],\n",
       " ['China', 'CN'],\n",
       " [\"Côte d'Ivoire\", 'CI'],\n",
       " ['Cameroon', 'CM'],\n",
       " ['Congo, The Democratic Republic of the', 'CD'],\n",
       " ['Congo', 'CG'],\n",
       " ['Cook Islands', 'CK'],\n",
       " ['Colombia', 'CO'],\n",
       " ['Comoros', 'KM'],\n",
       " ['Cabo Verde', 'CV'],\n",
       " ['Costa Rica', 'CR'],\n",
       " ['Cuba', 'CU'],\n",
       " ['Curaçao', 'CW'],\n",
       " ['Christmas Island', 'CX'],\n",
       " ['Cayman Islands', 'KY'],\n",
       " ['Cyprus', 'CY'],\n",
       " ['Czechia', 'CZ'],\n",
       " ['Germany', 'DE'],\n",
       " ['Djibouti', 'DJ'],\n",
       " ['Dominica', 'DM'],\n",
       " ['Denmark', 'DK'],\n",
       " ['Dominican Republic', 'DO'],\n",
       " ['Algeria', 'DZ'],\n",
       " ['Ecuador', 'EC'],\n",
       " ['Egypt', 'EG'],\n",
       " ['Eritrea', 'ER'],\n",
       " ['Western Sahara', 'EH'],\n",
       " ['Spain', 'ES'],\n",
       " ['Estonia', 'EE'],\n",
       " ['Ethiopia', 'ET'],\n",
       " ['Finland', 'FI'],\n",
       " ['Fiji', 'FJ'],\n",
       " ['Falkland Islands (Malvinas)', 'FK'],\n",
       " ['France', 'FR'],\n",
       " ['Faroe Islands', 'FO'],\n",
       " ['Micronesia, Federated States of', 'FM'],\n",
       " ['Gabon', 'GA'],\n",
       " ['United Kingdom', 'GB'],\n",
       " ['Georgia', 'GE'],\n",
       " ['Guernsey', 'GG'],\n",
       " ['Ghana', 'GH'],\n",
       " ['Gibraltar', 'GI'],\n",
       " ['Guinea', 'GN'],\n",
       " ['Guadeloupe', 'GP'],\n",
       " ['Gambia', 'GM'],\n",
       " ['Guinea-Bissau', 'GW'],\n",
       " ['Equatorial Guinea', 'GQ'],\n",
       " ['Greece', 'GR'],\n",
       " ['Grenada', 'GD'],\n",
       " ['Greenland', 'GL'],\n",
       " ['Guatemala', 'GT'],\n",
       " ['French Guiana', 'GF'],\n",
       " ['Guam', 'GU'],\n",
       " ['Guyana', 'GY'],\n",
       " ['Hong Kong', 'HK'],\n",
       " ['Heard Island and McDonald Islands', 'HM'],\n",
       " ['Honduras', 'HN'],\n",
       " ['Croatia', 'HR'],\n",
       " ['Haiti', 'HT'],\n",
       " ['Hungary', 'HU'],\n",
       " ['Indonesia', 'ID'],\n",
       " ['Isle of Man', 'IM'],\n",
       " ['India', 'IN'],\n",
       " ['British Indian Ocean Territory', 'IO'],\n",
       " ['Ireland', 'IE'],\n",
       " ['Iran, Islamic Republic of', 'IR'],\n",
       " ['Iraq', 'IQ'],\n",
       " ['Iceland', 'IS'],\n",
       " ['Israel', 'IL'],\n",
       " ['Italy', 'IT'],\n",
       " ['Jamaica', 'JM'],\n",
       " ['Jersey', 'JE'],\n",
       " ['Jordan', 'JO'],\n",
       " ['Japan', 'JP'],\n",
       " ['Kazakhstan', 'KZ'],\n",
       " ['Kenya', 'KE'],\n",
       " ['Kyrgyzstan', 'KG'],\n",
       " ['Cambodia', 'KH'],\n",
       " ['Kiribati', 'KI'],\n",
       " ['Saint Kitts and Nevis', 'KN'],\n",
       " ['Korea, Republic of', 'KR'],\n",
       " ['Kuwait', 'KW'],\n",
       " [\"Lao People's Democratic Republic\", 'LA'],\n",
       " ['Lebanon', 'LB'],\n",
       " ['Liberia', 'LR'],\n",
       " ['Libya', 'LY'],\n",
       " ['Saint Lucia', 'LC'],\n",
       " ['Liechtenstein', 'LI'],\n",
       " ['Sri Lanka', 'LK'],\n",
       " ['Lesotho', 'LS'],\n",
       " ['Lithuania', 'LT'],\n",
       " ['Luxembourg', 'LU'],\n",
       " ['Latvia', 'LV'],\n",
       " ['Macao', 'MO'],\n",
       " ['Saint Martin (French part)', 'MF'],\n",
       " ['Morocco', 'MA'],\n",
       " ['Monaco', 'MC'],\n",
       " ['Moldova, Republic of', 'MD'],\n",
       " ['Madagascar', 'MG'],\n",
       " ['Maldives', 'MV'],\n",
       " ['Mexico', 'MX'],\n",
       " ['Marshall Islands', 'MH'],\n",
       " ['North Macedonia', 'MK'],\n",
       " ['Mali', 'ML'],\n",
       " ['Malta', 'MT'],\n",
       " ['Myanmar', 'MM'],\n",
       " ['Montenegro', 'ME'],\n",
       " ['Mongolia', 'MN'],\n",
       " ['Northern Mariana Islands', 'MP'],\n",
       " ['Mozambique', 'MZ'],\n",
       " ['Mauritania', 'MR'],\n",
       " ['Montserrat', 'MS'],\n",
       " ['Martinique', 'MQ'],\n",
       " ['Mauritius', 'MU'],\n",
       " ['Malawi', 'MW'],\n",
       " ['Malaysia', 'MY'],\n",
       " ['Mayotte', 'YT'],\n",
       " ['Namibia', 'NA'],\n",
       " ['New Caledonia', 'NC'],\n",
       " ['Niger', 'NE'],\n",
       " ['Norfolk Island', 'NF'],\n",
       " ['Nigeria', 'NG'],\n",
       " ['Nicaragua', 'NI'],\n",
       " ['Niue', 'NU'],\n",
       " ['Netherlands', 'NL'],\n",
       " ['Norway', 'NO'],\n",
       " ['Nepal', 'NP'],\n",
       " ['Nauru', 'NR'],\n",
       " ['New Zealand', 'NZ'],\n",
       " ['Oman', 'OM'],\n",
       " ['Pakistan', 'PK'],\n",
       " ['Panama', 'PA'],\n",
       " ['Pitcairn', 'PN'],\n",
       " ['Peru', 'PE'],\n",
       " ['Philippines', 'PH'],\n",
       " ['Palau', 'PW'],\n",
       " ['Papua New Guinea', 'PG'],\n",
       " ['Poland', 'PL'],\n",
       " ['Puerto Rico', 'PR'],\n",
       " [\"Korea, Democratic People's Republic of\", 'KP'],\n",
       " ['Portugal', 'PT'],\n",
       " ['Paraguay', 'PY'],\n",
       " ['Palestine, State of', 'PS'],\n",
       " ['French Polynesia', 'PF'],\n",
       " ['Qatar', 'QA'],\n",
       " ['Réunion', 'RE'],\n",
       " ['Romania', 'RO'],\n",
       " ['Russian Federation', 'RU'],\n",
       " ['Rwanda', 'RW'],\n",
       " ['Saudi Arabia', 'SA'],\n",
       " ['Sudan', 'SD'],\n",
       " ['Senegal', 'SN'],\n",
       " ['Singapore', 'SG'],\n",
       " ['South Georgia and the South Sandwich Islands', 'GS'],\n",
       " ['Saint Helena, Ascension and Tristan da Cunha', 'SH'],\n",
       " ['Svalbard and Jan Mayen', 'SJ'],\n",
       " ['Solomon Islands', 'SB'],\n",
       " ['Sierra Leone', 'SL'],\n",
       " ['El Salvador', 'SV'],\n",
       " ['San Marino', 'SM'],\n",
       " ['Somalia', 'SO'],\n",
       " ['Saint Pierre and Miquelon', 'PM'],\n",
       " ['Serbia', 'RS'],\n",
       " ['South Sudan', 'SS'],\n",
       " ['Sao Tome and Principe', 'ST'],\n",
       " ['Suriname', 'SR'],\n",
       " ['Slovakia', 'SK'],\n",
       " ['Slovenia', 'SI'],\n",
       " ['Sweden', 'SE'],\n",
       " ['Eswatini', 'SZ'],\n",
       " ['Sint Maarten (Dutch part)', 'SX'],\n",
       " ['Seychelles', 'SC'],\n",
       " ['Syrian Arab Republic', 'SY'],\n",
       " ['Turks and Caicos Islands', 'TC'],\n",
       " ['Chad', 'TD'],\n",
       " ['Togo', 'TG'],\n",
       " ['Thailand', 'TH'],\n",
       " ['Tajikistan', 'TJ'],\n",
       " ['Tokelau', 'TK'],\n",
       " ['Turkmenistan', 'TM'],\n",
       " ['Timor-Leste', 'TL'],\n",
       " ['Tonga', 'TO'],\n",
       " ['Trinidad and Tobago', 'TT'],\n",
       " ['Tunisia', 'TN'],\n",
       " ['Türkiye', 'TR'],\n",
       " ['Tuvalu', 'TV'],\n",
       " ['Taiwan, Province of China', 'TW'],\n",
       " ['Tanzania, United Republic of', 'TZ'],\n",
       " ['Uganda', 'UG'],\n",
       " ['Ukraine', 'UA'],\n",
       " ['United States Minor Outlying Islands', 'UM'],\n",
       " ['Uruguay', 'UY'],\n",
       " ['United States', 'US'],\n",
       " ['Uzbekistan', 'UZ'],\n",
       " ['Holy See (Vatican City State)', 'VA'],\n",
       " ['Saint Vincent and the Grenadines', 'VC'],\n",
       " ['Venezuela, Bolivarian Republic of', 'VE'],\n",
       " ['Virgin Islands, British', 'VG'],\n",
       " ['Virgin Islands, U.S.', 'VI'],\n",
       " ['Viet Nam', 'VN'],\n",
       " ['Vanuatu', 'VU'],\n",
       " ['Wallis and Futuna', 'WF'],\n",
       " ['Samoa', 'WS'],\n",
       " ['Yemen', 'YE'],\n",
       " ['South Africa', 'ZA'],\n",
       " ['Zambia', 'ZM'],\n",
       " ['Zimbabwe', 'ZW']]"
      ]
     },
     "execution_count": 3,
     "metadata": {},
     "output_type": "execute_result"
    }
   ],
   "source": [
    "import pycountry\n",
    "import concurrent\n",
    "from tqdm import tqdm\n",
    "import requests\n",
    "\n",
    "# Generate a list of ISO 3166-1 alpha-2 country codes\n",
    "all_iso_country_codes = [[country.name, country.alpha_2] for country in pycountry.countries]\n",
    "\n",
    "all_iso_country_codes"
   ]
  },
  {
   "cell_type": "code",
   "execution_count": null,
   "metadata": {
    "tags": []
   },
   "outputs": [
    {
     "name": "stderr",
     "output_type": "stream",
     "text": [
      "Fetching boundaries:   0%|▏                                                            | 1/249 [00:04<19:14,  4.66s/it]"
     ]
    },
    {
     "name": "stdout",
     "output_type": "stream",
     "text": [
      "Error fetching boundaries for ['Aruba', 'AW']: \n"
     ]
    },
    {
     "name": "stderr",
     "output_type": "stream",
     "text": [
      "Fetching boundaries:   1%|▍                                                            | 2/249 [00:13<29:39,  7.20s/it]"
     ]
    },
    {
     "name": "stdout",
     "output_type": "stream",
     "text": [
      "Error fetching boundaries for ['Afghanistan', 'AF']: \n"
     ]
    },
    {
     "name": "stderr",
     "output_type": "stream",
     "text": [
      "Fetching boundaries:   1%|▋                                                            | 3/249 [00:18<25:39,  6.26s/it]"
     ]
    },
    {
     "name": "stdout",
     "output_type": "stream",
     "text": [
      "Error fetching boundaries for ['Angola', 'AO']: \n",
      "Error fetching boundaries for ['Anguilla', 'AI']: \n"
     ]
    },
    {
     "name": "stderr",
     "output_type": "stream",
     "text": [
      "Fetching boundaries:   2%|▉                                                            | 4/249 [00:29<32:50,  8.04s/it]"
     ]
    },
    {
     "name": "stdout",
     "output_type": "stream",
     "text": [
      "Error fetching boundaries for ['Åland Islands', 'AX']: \n"
     ]
    },
    {
     "name": "stderr",
     "output_type": "stream",
     "text": [
      "Fetching boundaries:   2%|█▏                                                           | 5/249 [00:40<36:50,  9.06s/it]"
     ]
    }
   ],
   "source": [
    "def fetch_admin_boundaries(iso_code):\n",
    "    overpass_url = \"http://overpass-api.de/api/interpreter\"\n",
    "    overpass_query = f\"\"\"\n",
    "    [out:json];\n",
    "    rel[\"ISO3166-2\"~\"^{iso_code}\"]\n",
    "       [admin_level=4]\n",
    "       [type=boundary]\n",
    "       [boundary=administrative];\n",
    "    out geom;\n",
    "    \"\"\"\n",
    "    boundaries = {'Country': [], 'Country Code': [], 'Level 4 Boundary': []}\n",
    "    try:\n",
    "        response = requests.post(overpass_url, data=overpass_query)\n",
    "        response.raise_for_status()\n",
    "        data = response.json()\n",
    "\n",
    "        for element in data['elements']:\n",
    "            if 'tags' in element:\n",
    "                if 'name' in element['tags']:\n",
    "                    country = element['tags']['name']\n",
    "                    country_code = iso_code\n",
    "                    level_4_boundary = element['tags']['name']\n",
    "                    boundaries['Country'].append(pycountry.countries.get(alpha_2=iso_code).name)\n",
    "                    boundaries['Country Code'].append(country_code)\n",
    "                    boundaries['Level 4 Boundary'].append(level_4_boundary)\n",
    "    except Exception as e:\n",
    "        print(f\"Error fetching boundaries for {iso_code}: {e}\")\n",
    "    return boundaries\n",
    "\n",
    "def fetch_all_admin_boundaries(iso_codes):\n",
    "    all_boundaries = []\n",
    "    for iso_code in tqdm(iso_codes, desc=\"Fetching boundaries\"):\n",
    "        boundaries = fetch_admin_boundaries(iso_code)\n",
    "        all_boundaries.append(boundaries)\n",
    "    return all_boundaries\n",
    "\n",
    "# List of ISO 3166-2 codes you are interested in\n",
    "theyspeakenglish = [\"US\", \"GB\", \"AU\", \"NZ\"]\n",
    "try1 = [\"US\", \"FR\"]\n",
    "\n",
    "iso_codes = all_iso_country_codes\n",
    "# Fetch administrative boundaries for each ISO code sequentially\n",
    "all_boundaries = fetch_all_admin_boundaries(iso_codes)\n",
    "\n",
    "# Create pandas DataFrame\n",
    "df_list = []\n",
    "for boundaries in all_boundaries:\n",
    "    df_list.append(pd.DataFrame(boundaries))\n",
    "\n",
    "df = pd.concat(df_list, ignore_index=True)"
   ]
  },
  {
   "cell_type": "code",
   "execution_count": null,
   "metadata": {
    "tags": []
   },
   "outputs": [],
   "source": [
    "df"
   ]
  },
  {
   "cell_type": "code",
   "execution_count": null,
   "metadata": {
    "tags": []
   },
   "outputs": [],
   "source": [
    "df[df[\"Country Code\"].str.contains(\"US\", case=False)]"
   ]
  },
  {
   "cell_type": "code",
   "execution_count": null,
   "metadata": {
    "tags": []
   },
   "outputs": [],
   "source": [
    "df[df[\"Country Code\"].str.contains(\"FR\", case=False)]"
   ]
  },
  {
   "cell_type": "code",
   "execution_count": null,
   "metadata": {
    "tags": []
   },
   "outputs": [],
   "source": [
    "df[df[\"Level 4 Boundary\"].str.contains(\"California\", case=False)]"
   ]
  },
  {
   "cell_type": "code",
   "execution_count": null,
   "metadata": {},
   "outputs": [],
   "source": []
  }
 ],
 "metadata": {
  "kernelspec": {
   "display_name": "Python 3 (ipykernel)",
   "language": "python",
   "name": "python3"
  },
  "language_info": {
   "codemirror_mode": {
    "name": "ipython",
    "version": 3
   },
   "file_extension": ".py",
   "mimetype": "text/x-python",
   "name": "python",
   "nbconvert_exporter": "python",
   "pygments_lexer": "ipython3",
   "version": "3.11.4"
  }
 },
 "nbformat": 4,
 "nbformat_minor": 4
}
