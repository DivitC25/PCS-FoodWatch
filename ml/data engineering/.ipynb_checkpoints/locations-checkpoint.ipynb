{
 "cells": [
  {
   "cell_type": "code",
   "execution_count": null,
   "metadata": {},
   "outputs": [],
   "source": [
    "import requests\n",
    "import pandas as pd\n",
    "\n",
    "# Define the Overpass API query\n",
    "overpass_url = \"http://overpass-api.de/api/interpreter\"\n",
    "overpass_query = \"\"\"\n",
    "[out:json];\n",
    "area[name=\"Country Name\"]->.searchArea;\n",
    "(\n",
    "  way(area.searchArea)[\"admin_level\"=\"2\"];\n",
    ");\n",
    "out body;\n",
    ">;\n",
    "out skel qt;\n",
    "\"\"\"\n",
    "\n",
    "# Send the query to Overpass API\n",
    "response = requests.post(overpass_url, data=overpass_query)\n",
    "\n",
    "# Parse the JSON response\n",
    "data = response.json()\n",
    "\n",
    "# Extract municipality names\n",
    "municipality_names = []\n",
    "for element in data['elements']:\n",
    "    if 'tags' in element:\n",
    "        if 'name' in element['tags']:\n",
    "            municipality_names.append(element['tags']['name'])\n",
    "\n",
    "# Convert to pandas DataFrame\n",
    "df = pd.DataFrame(municipality_names, columns=['Municipality Name'])\n",
    "\n",
    "# Print the DataFrame\n",
    "print(df)\n"
   ]
  }
 ],
 "metadata": {
  "language_info": {
   "name": "python"
  }
 },
 "nbformat": 4,
 "nbformat_minor": 2
}
