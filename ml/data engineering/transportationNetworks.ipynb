{
 "cells": [
  {
   "cell_type": "code",
   "execution_count": 7,
   "metadata": {},
   "outputs": [],
   "source": [
    "import osmnx as ox\n",
    "from shapely.geometry import Polygon, MultiPolygon\n",
    "import geopandas as gpd\n",
    "import requests \n"
   ]
  },
  {
   "cell_type": "code",
   "execution_count": 8,
   "metadata": {},
   "outputs": [],
   "source": [
    "def count_objects_in_polygon(polygon):\n",
    "    if not isinstance(polygon, (Polygon, MultiPolygon)):\n",
    "        raise TypeError(\"Not polygon obj\")\n",
    "\n",
    "    tags = {\n",
    "        'aeroway': 'aerodrome',\n",
    "        'seamark:type': 'harbour',\n",
    "        'highway': 'motorway' #if we set this to True, we will get all roads, this is just highways\n",
    "    }\n",
    "\n",
    "    objects = ox.features_from_polygon(polygon, tags)\n",
    "\n",
    "    num_airports = len(objects[objects['aeroway'] == 'aerodrome'])\n",
    "    num_harbors = len(objects[objects['seamark:type'] == 'harbour'])\n",
    "    num_highways = len(objects[objects['highway'].notna()])\n",
    "\n",
    "    return {\n",
    "        'airports': num_airports,\n",
    "        'harbors': num_harbors,\n",
    "        'highways': num_highways\n",
    "    }\n"
   ]
  },
  {
   "cell_type": "code",
   "execution_count": 9,
   "metadata": {},
   "outputs": [],
   "source": [
    "\n",
    "def bounding_coordinates(place, country): # this is from the vegetation notebook, the current one in the repo is corupt. once its not corupt we can import this func\n",
    "    url = f\"https://nominatim.openstreetmap.org/search.php?q={place}+{country}&polygon_geojson=1&format=json\"\n",
    "    response = requests.get(url)\n",
    "\n",
    "    if response.status_code == 200:\n",
    "        data = response.json()\n",
    "        polygon_coordinates = 0\n",
    "        bounding_coordinates = 0\n",
    "        if(data[0][\"class\"] != \"boundary\"):\n",
    "          for i in range(len(data)):\n",
    "            if(data[i][\"class\"] == \"boundary\"):\n",
    "              polygon_coordinates = data[i]['geojson']['coordinates'][0]\n",
    "        else:\n",
    "          polygon_coordinates = data[0]['geojson']['coordinates'][0]\n",
    "        bounding_coordinates = [float(i) for i in data[0]['boundingbox']]\n",
    "        return [polygon_coordinates, bounding_coordinates]"
   ]
  },
  {
   "cell_type": "code",
   "execution_count": 10,
   "metadata": {},
   "outputs": [],
   "source": [
    "def flatten_coords(coord_list): #ChatGPT generated FYI, sorry ): , had to run to class\n",
    "    \"\"\" Flatten the list of coordinates to a list of tuples. \"\"\"\n",
    "    # This function should handle nested structures appropriately\n",
    "    if isinstance(coord_list[0], list):\n",
    "        # If the first item is a list, we assume it's a list of lists\n",
    "        if isinstance(coord_list[0][0], list):\n",
    "            # If the nested list also contains a list, recurse deeper\n",
    "            return flatten_coords([item for sublist in coord_list for item in sublist])\n",
    "        else:\n",
    "            # Otherwise, it's just one level deep of coordinate pairs\n",
    "            return [tuple(item) for item in coord_list]\n",
    "    else:\n",
    "        # Base case: if we're at the coordinate pair level, stop flattening\n",
    "        return [tuple(coord_list)]\n"
   ]
  },
  {
   "cell_type": "code",
   "execution_count": 11,
   "metadata": {},
   "outputs": [
    {
     "name": "stdout",
     "output_type": "stream",
     "text": [
      "Number of airports: 12\n",
      "Number of harbors: 40\n",
      "Number of highways: 1023\n"
     ]
    }
   ],
   "source": [
    "poly_coords = bounding_coordinates('Rhode Island', 'USA')[0]\n",
    "poly_coords = flatten_coords(poly_coords)\n",
    "poly = Polygon(poly_coords)\n",
    "\n",
    "\n",
    "object_counts = count_objects_in_polygon(poly)\n",
    "\n",
    "print(\"Number of airports:\", object_counts['airports'])\n",
    "print(\"Number of harbors:\", object_counts['harbors'])\n",
    "print(\"Number of highways:\", object_counts['highways'])"
   ]
  }
 ],
 "metadata": {
  "kernelspec": {
   "display_name": "Python 3",
   "language": "python",
   "name": "python3"
  },
  "language_info": {
   "codemirror_mode": {
    "name": "ipython",
    "version": 3
   },
   "file_extension": ".py",
   "mimetype": "text/x-python",
   "name": "python",
   "nbconvert_exporter": "python",
   "pygments_lexer": "ipython3",
   "version": "3.12.2"
  }
 },
 "nbformat": 4,
 "nbformat_minor": 2
}
