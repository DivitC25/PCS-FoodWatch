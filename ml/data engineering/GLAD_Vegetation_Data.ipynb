{
  "nbformat": 4,
  "nbformat_minor": 0,
  "metadata": {
    "colab": {
      "provenance": []
    },
    "kernelspec": {
      "name": "python3",
      "display_name": "Python 3"
    },
    "language_info": {
      "name": "python"
    }
  },
  "cells": [
    {
      "cell_type": "code",
      "source": [
        "!pip install rasterio"
      ],
      "metadata": {
        "colab": {
          "base_uri": "https://localhost:8080/"
        },
        "id": "OhEdjralMpaF",
        "outputId": "9236fe92-ca27-452c-aa97-9995c1b16d01"
      },
      "execution_count": null,
      "outputs": [
        {
          "output_type": "stream",
          "name": "stdout",
          "text": [
            "Collecting rasterio\n",
            "  Downloading rasterio-1.3.9-cp310-cp310-manylinux2014_x86_64.whl (20.6 MB)\n",
            "\u001b[2K     \u001b[90m━━━━━━━━━━━━━━━━━━━━━━━━━━━━━━━━━━━━━━━━\u001b[0m \u001b[32m20.6/20.6 MB\u001b[0m \u001b[31m32.8 MB/s\u001b[0m eta \u001b[36m0:00:00\u001b[0m\n",
            "\u001b[?25hCollecting affine (from rasterio)\n",
            "  Downloading affine-2.4.0-py3-none-any.whl (15 kB)\n",
            "Requirement already satisfied: attrs in /usr/local/lib/python3.10/dist-packages (from rasterio) (23.2.0)\n",
            "Requirement already satisfied: certifi in /usr/local/lib/python3.10/dist-packages (from rasterio) (2024.2.2)\n",
            "Requirement already satisfied: click>=4.0 in /usr/local/lib/python3.10/dist-packages (from rasterio) (8.1.7)\n",
            "Requirement already satisfied: cligj>=0.5 in /usr/local/lib/python3.10/dist-packages (from rasterio) (0.7.2)\n",
            "Requirement already satisfied: numpy in /usr/local/lib/python3.10/dist-packages (from rasterio) (1.25.2)\n",
            "Collecting snuggs>=1.4.1 (from rasterio)\n",
            "  Downloading snuggs-1.4.7-py3-none-any.whl (5.4 kB)\n",
            "Requirement already satisfied: click-plugins in /usr/local/lib/python3.10/dist-packages (from rasterio) (1.1.1)\n",
            "Requirement already satisfied: setuptools in /usr/local/lib/python3.10/dist-packages (from rasterio) (67.7.2)\n",
            "Requirement already satisfied: pyparsing>=2.1.6 in /usr/local/lib/python3.10/dist-packages (from snuggs>=1.4.1->rasterio) (3.1.1)\n",
            "Installing collected packages: snuggs, affine, rasterio\n",
            "Successfully installed affine-2.4.0 rasterio-1.3.9 snuggs-1.4.7\n"
          ]
        }
      ]
    },
    {
      "cell_type": "code",
      "source": [
        "import requests\n",
        "import rasterio\n",
        "from rasterio.windows import Window\n",
        "from shapely.geometry import Polygon\n",
        "import numpy as np\n",
        "\n",
        "def bounding_coordinates(place, country):\n",
        "    url = f\"https://nominatim.openstreetmap.org/search.php?q={place}+{country}&polygon_geojson=1&format=json\"\n",
        "    response = requests.get(url)\n",
        "\n",
        "    if response.status_code == 200:\n",
        "        data = response.json()\n",
        "        polygon_coordinates = data[0]['geojson']['coordinates'][0]\n",
        "        bounding_coordinates = [float(i) for i in data[0]['boundingbox']]\n",
        "        return [polygon_coordinates, bounding_coordinates]\n",
        "\n",
        "def crop_cover_percentage(place,country):\n",
        "  with rasterio.open(\"ml/data/inputs/Global_cropland_3km_2019 (1).tif") as src:\n",
        "    # Get the bounding polygon coordinates\n",
        "    city_polygon_coords = bounding_coordinates(place,country)[0]\n",
        "    city_polygon = Polygon(city_polygon_coords)\n",
        "\n",
        "    # Extract the extent of the bounding box\n",
        "    minx, miny, maxx, maxy = city_polygon.bounds\n",
        "\n",
        "    # Convert bounding box coordinates to pixel coordinates\n",
        "    window = src.window(*city_polygon.bounds)\n",
        "\n",
        "    # Read the data for the bounding polygon\n",
        "    data = src.read(1, window=window)\n",
        "\n",
        "    # Read the mask for the bounding polygon\n",
        "    mask = src.read_masks(1, window=window)\n",
        "\n",
        "    # Calculate the ratio of crop cover pixels\n",
        "    total_pixels = np.sum(mask != 0)  # Count non-zero pixels in the mask\n",
        "    crop_cover_pixels = np.sum((mask != 0) & (data == 1))  # Count pixels where mask is non-zero and data is 1\n",
        "\n",
        "    # Calculate the ratio\n",
        "    ratio_crop_cover = crop_cover_pixels / total_pixels\n",
        "\n",
        "    return ratio_crop_cover*100\n",
        "\n",
        "crop_cover_percentage(\"Suzhou\",\"China\")"
      ],
      "metadata": {
        "colab": {
          "base_uri": "https://localhost:8080/"
        },
        "id": "dlHqGWJppBjb",
        "outputId": "2080d587-61fa-4339-be04-cfed7f2236c4"
      },
      "execution_count": 159,
      "outputs": [
        {
          "output_type": "execute_result",
          "data": {
            "text/plain": [
              "4.187437686939183"
            ]
          },
          "metadata": {},
          "execution_count": 159
        }
      ]
    }
  ]
}
