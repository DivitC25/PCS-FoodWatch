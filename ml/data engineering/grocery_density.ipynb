{
 "cells": [
  {
   "cell_type": "code",
   "execution_count": 86,
   "metadata": {},
   "outputs": [],
   "source": [
    "import osmnx as ox\n",
    "from shapely.geometry import Polygon, MultiPolygon\n",
    "import geopandas as gpd\n",
    "import requests \n",
    "from collections import defaultdict\n",
    "from ipynb.fs.full.transportationNetworks import bounding_coordinates, flatten_coords\n",
    "import csv"
   ]
  },
  {
   "cell_type": "code",
   "execution_count": 98,
   "metadata": {},
   "outputs": [],
   "source": [
    "def count_objects_in_polygon(polygon):\n",
    "    if not isinstance(polygon, (Polygon, MultiPolygon)):\n",
    "        raise TypeError(\"Not polygon obj\")\n",
    "    \n",
    "    shop_types = ['grocery', 'general', 'supermarket', 'deli', 'greengrocer', 'food', 'marketplace', 'kiosk']\n",
    "    try:\n",
    "        grocery_stores = ox.features.features_from_polygon(polygon, tags={\"shop\": shop_types, \"amenity\": shop_types})\n",
    "    except ox._errors.InsufficientResponseError:\n",
    "        return {a:0 for a in shop_types}\n",
    "    shop_counts = defaultdict(int)\n",
    "    \n",
    "    if not grocery_stores.empty:\n",
    "        for _, store in grocery_stores.iterrows():\n",
    "            shop_type = store.get('shop') or store.get('amenity')\n",
    "            if shop_type in shop_types:\n",
    "                shop_counts[shop_type] += 1\n",
    "    \n",
    "    for shop_type in shop_types:\n",
    "        if shop_type not in shop_counts:\n",
    "            shop_counts[shop_type] = 0\n",
    "    \n",
    "    return dict(shop_counts)\n"
   ]
  },
  {
   "cell_type": "code",
   "execution_count": 99,
   "metadata": {},
   "outputs": [],
   "source": [
    "def return_weight(city, country):\n",
    "    poly_coords = bounding_coordinates(city, country)[0]\n",
    "    poly_coords = flatten_coords(poly_coords)\n",
    "    poly = Polygon(poly_coords)\n",
    "\n",
    "\n",
    "    object_counts = count_objects_in_polygon(poly)\n",
    "    square_surface_area = poly.area\n",
    "    \n",
    "    weightSum = object_counts['grocery']*3 + object_counts['general']*3 + object_counts['supermarket']*3 + object_counts['deli'] *2 + object_counts['greengrocer'] * 2 + object_counts['food'] * 1 + object_counts['marketplace']*3 + object_counts['kiosk']*1\n",
    "\n",
    "    return weightSum/square_surface_area\n"
   ]
  },
  {
   "cell_type": "code",
   "execution_count": 100,
   "metadata": {},
   "outputs": [],
   "source": [
    "def test():\n",
    "    print(return_weight('Cidade De Chimoio', 'Mozambique'))\n"
   ]
  },
  {
   "cell_type": "code",
   "execution_count": 101,
   "metadata": {},
   "outputs": [],
   "source": [
    "\n",
    "def update_grocery_density(csv_filepath):\n",
    "    # Read the CSV data\n",
    "    with open(csv_filepath, newline='') as file:\n",
    "        reader = csv.DictReader(file)\n",
    "        rows = list(reader)  # Convert iterator to list to reuse it\n",
    "\n",
    "    for row in rows:\n",
    "        print(\"Checking:\", row['Region'].replace(\"_\", \" \"), row['Country'].replace(\"_\", \" \"))\n",
    "        result = return_weight(row['Region'].replace(\"_\", \" \"), row['Country'].replace(\"_\", \" \"))\n",
    "        print(row['Region'], row['Country'], result)\n",
    "        row['Food_Storage_Groceries'] = float(row['Food_Storage_Groceries']) + result\n",
    "\n",
    "    with open(csv_filepath, 'w', newline='') as file:\n",
    "        fieldnames = rows[0].keys()  # Grab the field names from the first row\n",
    "        writer = csv.DictWriter(file, fieldnames=fieldnames)\n",
    "        writer.writeheader()\n",
    "        writer.writerows(rows)"
   ]
  },
  {
   "cell_type": "code",
   "execution_count": 102,
   "metadata": {},
   "outputs": [
    {
     "name": "stdout",
     "output_type": "stream",
     "text": [
      "Checking: Bamingui Central African Republic\n"
     ]
    },
    {
     "name": "stderr",
     "output_type": "stream",
     "text": [
      "/opt/homebrew/lib/python3.12/site-packages/osmnx/_overpass.py:245: UserWarning: This area is 28 times your configured Overpass max query area size. It will automatically be divided up into multiple sub-queries accordingly. This may take a long time.\n",
      "  multi_poly_proj = utils_geo._consolidate_subdivide_geometry(poly_proj)\n"
     ]
    },
    {
     "name": "stdout",
     "output_type": "stream",
     "text": [
      "3 4.737893839909495\n",
      "Bamingui Central_African_Republic 0.6331927437313173\n",
      "Checking: Bangui Central African Republic\n",
      "12 0.005635329566469988\n",
      "Bangui Central_African_Republic 2129.4229305415565\n",
      "Checking: Badakhshan Afghanistan\n"
     ]
    },
    {
     "name": "stderr",
     "output_type": "stream",
     "text": [
      "/opt/homebrew/lib/python3.12/site-packages/osmnx/_overpass.py:245: UserWarning: This area is 34 times your configured Overpass max query area size. It will automatically be divided up into multiple sub-queries accordingly. This may take a long time.\n",
      "  multi_poly_proj = utils_geo._consolidate_subdivide_geometry(poly_proj)\n"
     ]
    },
    {
     "name": "stdout",
     "output_type": "stream",
     "text": [
      "111 4.399299311068158\n",
      "Badakhshan Afghanistan 25.231290746855095\n",
      "Checking: Badghis Afghanistan\n",
      "0 2.047361402595349\n",
      "Badghis Afghanistan 0.0\n",
      "Checking: Baghlan Afghanistan\n",
      "0 1.7804168209671485\n",
      "Baghlan Afghanistan 0.0\n",
      "Checking: Balkh Afghanistan\n",
      "0 0.05171428141380005\n",
      "Balkh Afghanistan 0.0\n",
      "Checking: Bamyan Afghanistan\n",
      "2 1.7583558770541585\n",
      "Bamyan Afghanistan 1.137426175269296\n"
     ]
    }
   ],
   "source": [
    "update_grocery_density(\"/Users/alexforman/Downloads/foodwatchInput.csv\")"
   ]
  },
  {
   "cell_type": "code",
   "execution_count": null,
   "metadata": {},
   "outputs": [],
   "source": []
  }
 ],
 "metadata": {
  "kernelspec": {
   "display_name": "Python 3 (ipykernel)",
   "language": "python",
   "name": "python3"
  },
  "language_info": {
   "codemirror_mode": {
    "name": "ipython",
    "version": 3
   },
   "file_extension": ".py",
   "mimetype": "text/x-python",
   "name": "python",
   "nbconvert_exporter": "python",
   "pygments_lexer": "ipython3",
   "version": "3.12.2"
  }
 },
 "nbformat": 4,
 "nbformat_minor": 2
}
