{
 "cells": [
  {
   "cell_type": "code",
   "execution_count": null,
   "metadata": {},
   "outputs": [
    {
     "ename": "",
     "evalue": "",
     "output_type": "error",
     "traceback": [
      "\u001b[1;31mRunning cells with 'c:\\Python312\\python.exe' requires the ipykernel package.\n",
      "\u001b[1;31mRun the following command to install 'ipykernel' into the Python environment. \n",
      "\u001b[1;31mCommand: 'c:/Python312/python.exe -m pip install ipykernel -U --user --force-reinstall'"
     ]
    }
   ],
   "source": [
    "pip install osmnx"
   ]
  },
  {
   "cell_type": "code",
   "execution_count": null,
   "metadata": {},
   "outputs": [],
   "source": [
    "import osmnx as ox\n",
    "import pandas as pd\n",
    "\n",
    "# Define your study area (e.g., a city name or its geographical coordinates)\n",
    "city = \"New York City, New York, USA\"\n",
    "# Or you can specify a bounding box\n",
    "# north, south, east, west = 40.917577, 40.477399, -73.700272, -74.259090\n",
    "\n",
    "# Define the amenities you're interested in (e.g., \"grocery\")\n",
    "amenity = \"grocery\"\n",
    "\n",
    "# Retrieve the street network and amenities within the study area\n",
    "G = ox.graph_from_place(city, network_type='all', tags={'shop': amenity})\n",
    "\n",
    "# Convert the amenities to a GeoDataFrame\n",
    "amenities = ox.pois_from_place(city, tags={'shop': amenity})\n",
    "\n",
    "# Calculate the area of the study region\n",
    "area = ox.geocode_to_gdf(city).unary_union.area\n",
    "\n",
    "# Calculate the density of grocery stores\n",
    "density = len(amenities) / area\n",
    "\n",
    "print(f\"Density of {amenity} stores in {city}: {density} per square meter\")\n",
    "\n",
    "# Optionally, you can save the amenities to a CSV file\n",
    "amenities.to_csv(f\"{city}_grocery_stores.csv\", index=False)\n"
   ]
  },
  {
   "cell_type": "code",
   "execution_count": null,
   "metadata": {},
   "outputs": [],
   "source": []
  }
 ],
 "metadata": {
  "kernelspec": {
   "display_name": "Python 3",
   "language": "python",
   "name": "python3"
  },
  "language_info": {
   "name": "python",
   "version": "3.12.1"
  }
 },
 "nbformat": 4,
 "nbformat_minor": 2
}
