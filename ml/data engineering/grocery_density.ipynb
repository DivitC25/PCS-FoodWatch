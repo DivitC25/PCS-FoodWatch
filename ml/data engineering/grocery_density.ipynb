{
 "cells": [
  {
   "cell_type": "code",
   "execution_count": 68,
   "metadata": {},
   "outputs": [],
   "source": [
    "import osmnx as ox\n",
    "from shapely.geometry import Polygon, MultiPolygon\n",
    "import geopandas as gpd\n",
    "import requests \n",
    "from collections import defaultdict\n",
    "from ipynb.fs.full.transportationNetworks import bounding_coordinates, flatten_coords"
   ]
  },
  {
   "cell_type": "code",
   "execution_count": 71,
   "metadata": {},
   "outputs": [],
   "source": [
    "def count_objects_in_polygon(polygon):\n",
    "    if not isinstance(polygon, (Polygon, MultiPolygon)):\n",
    "        raise TypeError(\"Not polygon obj\")\n",
    "\n",
    "    shop_types = ['grocery', 'general', 'supermarket', 'deli', 'greengrocer', 'food', 'marketplace', 'kiosk']\n",
    "    \n",
    "\n",
    "    grocery_stores = ox.features.features_from_polygon(polygon, tags={\"shop\":shop_types, \"amenity\":shop_types})\n",
    "    \n",
    "    shop_counts = defaultdict(int)\n",
    "    \n",
    "    # Iterate over each grocery store and increment the count for its shop type\n",
    "    shop_counts = defaultdict(int)\n",
    "    for shop_type in shop_types:\n",
    "        num_shops = len(grocery_stores[(grocery_stores['shop'] == shop_type) | (grocery_stores['amenity'] == shop_type)])\n",
    "        shop_counts[shop_type] = num_shops\n",
    "    \n",
    "    return dict(shop_counts)"
   ]
  },
  {
   "cell_type": "code",
   "execution_count": 79,
   "metadata": {},
   "outputs": [],
   "source": [
    "def return_weight(city, country):\n",
    "    poly_coords = bounding_coordinates(city, country)[0]\n",
    "    poly_coords = flatten_coords(poly_coords)\n",
    "    poly = Polygon(poly_coords)\n",
    "\n",
    "\n",
    "    object_counts = count_objects_in_polygon(poly)\n",
    "    square_surface_area = poly.area\n",
    "    \n",
    "    weightSum = object_counts['grocery']*3 + object_counts['general']*3 + object_counts['supermarket']*3 + object_counts['deli'] *2 + object_counts['greengrocer'] * 2 + object_counts['food'] * 1 + object_counts['marketplace']*3 + object_counts['kiosk']*1\n",
    "\n",
    "    print(weightSum, square_surface_area)\n",
    "    return weightSum/square_surface_area\n"
   ]
  },
  {
   "cell_type": "code",
   "execution_count": 80,
   "metadata": {},
   "outputs": [
    {
     "name": "stdout",
     "output_type": "stream",
     "text": [
      "24 0.01484637184041495\n",
      "1616.5565740894988\n"
     ]
    }
   ],
   "source": [
    "def test():\n",
    "    print(return_weight('Cidade De Chimoio', 'Mozambique'))\n",
    "test()"
   ]
  },
  {
   "cell_type": "code",
   "execution_count": null,
   "metadata": {},
   "outputs": [],
   "source": []
  }
 ],
 "metadata": {
  "kernelspec": {
   "display_name": "Python 3 (ipykernel)",
   "language": "python",
   "name": "python3"
  },
  "language_info": {
   "codemirror_mode": {
    "name": "ipython",
    "version": 3
   },
   "file_extension": ".py",
   "mimetype": "text/x-python",
   "name": "python",
   "nbconvert_exporter": "python",
   "pygments_lexer": "ipython3",
   "version": "3.12.2"
  }
 },
 "nbformat": 4,
 "nbformat_minor": 2
}
