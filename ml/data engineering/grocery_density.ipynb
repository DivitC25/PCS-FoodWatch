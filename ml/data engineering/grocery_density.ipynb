{
 "cells": [
  {
   "cell_type": "code",
   "execution_count": 1,
   "metadata": {},
   "outputs": [
    {
     "name": "stdout",
     "output_type": "stream",
     "text": [
      "Collecting osmnx\n",
      "  Obtaining dependency information for osmnx from https://files.pythonhosted.org/packages/5e/ab/2e29d26454a8a9bdedb7a9be8920c6a9b88e5e6caae15cbba0d50a134697/osmnx-1.9.1-py3-none-any.whl.metadata\n",
      "  Downloading osmnx-1.9.1-py3-none-any.whl.metadata (4.9 kB)\n",
      "Collecting geopandas>=0.12 (from osmnx)\n",
      "  Obtaining dependency information for geopandas>=0.12 from https://files.pythonhosted.org/packages/90/37/08e416c9915dcf7d53deb0fbdb702266902c584617dfa6e6c84fb2fc6ee3/geopandas-0.14.3-py3-none-any.whl.metadata\n",
      "  Downloading geopandas-0.14.3-py3-none-any.whl.metadata (1.5 kB)\n",
      "Requirement already satisfied: networkx>=2.5 in c:\\users\\587ma\\anaconda3\\lib\\site-packages (from osmnx) (3.1)\n",
      "Requirement already satisfied: numpy>=1.20 in c:\\users\\587ma\\anaconda3\\lib\\site-packages (from osmnx) (1.24.3)\n",
      "Requirement already satisfied: pandas>=1.1 in c:\\users\\587ma\\anaconda3\\lib\\site-packages (from osmnx) (1.5.3)\n",
      "Requirement already satisfied: requests>=2.27 in c:\\users\\587ma\\anaconda3\\lib\\site-packages (from osmnx) (2.31.0)\n",
      "Collecting shapely>=2.0 (from osmnx)\n",
      "  Obtaining dependency information for shapely>=2.0 from https://files.pythonhosted.org/packages/29/cd/763817c27e6cb6d04ffd477a5dcdfdd71bc3fb640f5748c9f2c1cd08ba52/shapely-2.0.3-cp311-cp311-win_amd64.whl.metadata\n",
      "  Downloading shapely-2.0.3-cp311-cp311-win_amd64.whl.metadata (7.2 kB)\n",
      "Collecting fiona>=1.8.21 (from geopandas>=0.12->osmnx)\n",
      "  Obtaining dependency information for fiona>=1.8.21 from https://files.pythonhosted.org/packages/7f/27/b24c1610c7ae5716709321f04d38d7b8b71ed531f80df4f697b9ad99cfc3/fiona-1.9.5-cp311-cp311-win_amd64.whl.metadata\n",
      "  Downloading fiona-1.9.5-cp311-cp311-win_amd64.whl.metadata (51 kB)\n",
      "     ---------------------------------------- 0.0/51.1 kB ? eta -:--:--\n",
      "     ---------------------------------------- 51.1/51.1 kB ? eta 0:00:00\n",
      "Requirement already satisfied: packaging in c:\\users\\587ma\\anaconda3\\lib\\site-packages (from geopandas>=0.12->osmnx) (23.0)\n",
      "Collecting pyproj>=3.3.0 (from geopandas>=0.12->osmnx)\n",
      "  Obtaining dependency information for pyproj>=3.3.0 from https://files.pythonhosted.org/packages/79/95/eb68113c5b5737c342bde1bab92705dabe69c16299c5a122616e50f1fbd6/pyproj-3.6.1-cp311-cp311-win_amd64.whl.metadata\n",
      "  Downloading pyproj-3.6.1-cp311-cp311-win_amd64.whl.metadata (31 kB)\n",
      "Requirement already satisfied: python-dateutil>=2.8.1 in c:\\users\\587ma\\anaconda3\\lib\\site-packages (from pandas>=1.1->osmnx) (2.8.2)\n",
      "Requirement already satisfied: pytz>=2020.1 in c:\\users\\587ma\\anaconda3\\lib\\site-packages (from pandas>=1.1->osmnx) (2022.7)\n",
      "Requirement already satisfied: charset-normalizer<4,>=2 in c:\\users\\587ma\\anaconda3\\lib\\site-packages (from requests>=2.27->osmnx) (2.0.4)\n",
      "Requirement already satisfied: idna<4,>=2.5 in c:\\users\\587ma\\anaconda3\\lib\\site-packages (from requests>=2.27->osmnx) (3.4)\n",
      "Requirement already satisfied: urllib3<3,>=1.21.1 in c:\\users\\587ma\\anaconda3\\lib\\site-packages (from requests>=2.27->osmnx) (1.26.16)\n",
      "Requirement already satisfied: certifi>=2017.4.17 in c:\\users\\587ma\\anaconda3\\lib\\site-packages (from requests>=2.27->osmnx) (2023.7.22)\n",
      "Requirement already satisfied: attrs>=19.2.0 in c:\\users\\587ma\\anaconda3\\lib\\site-packages (from fiona>=1.8.21->geopandas>=0.12->osmnx) (22.1.0)\n",
      "Requirement already satisfied: click~=8.0 in c:\\users\\587ma\\anaconda3\\lib\\site-packages (from fiona>=1.8.21->geopandas>=0.12->osmnx) (8.0.4)\n",
      "Collecting click-plugins>=1.0 (from fiona>=1.8.21->geopandas>=0.12->osmnx)\n",
      "  Obtaining dependency information for click-plugins>=1.0 from https://files.pythonhosted.org/packages/e9/da/824b92d9942f4e472702488857914bdd50f73021efea15b4cad9aca8ecef/click_plugins-1.1.1-py2.py3-none-any.whl.metadata\n",
      "  Downloading click_plugins-1.1.1-py2.py3-none-any.whl.metadata (6.4 kB)\n",
      "Collecting cligj>=0.5 (from fiona>=1.8.21->geopandas>=0.12->osmnx)\n",
      "  Obtaining dependency information for cligj>=0.5 from https://files.pythonhosted.org/packages/73/86/43fa9f15c5b9fb6e82620428827cd3c284aa933431405d1bcf5231ae3d3e/cligj-0.7.2-py3-none-any.whl.metadata\n",
      "  Downloading cligj-0.7.2-py3-none-any.whl.metadata (5.0 kB)\n",
      "Requirement already satisfied: six in c:\\users\\587ma\\anaconda3\\lib\\site-packages (from fiona>=1.8.21->geopandas>=0.12->osmnx) (1.16.0)\n",
      "Requirement already satisfied: setuptools in c:\\users\\587ma\\anaconda3\\lib\\site-packages (from fiona>=1.8.21->geopandas>=0.12->osmnx) (68.0.0)\n",
      "Requirement already satisfied: colorama in c:\\users\\587ma\\anaconda3\\lib\\site-packages (from click~=8.0->fiona>=1.8.21->geopandas>=0.12->osmnx) (0.4.6)\n",
      "Downloading osmnx-1.9.1-py3-none-any.whl (104 kB)\n",
      "   ---------------------------------------- 0.0/104.3 kB ? eta -:--:--\n",
      "   ---------------------------------------- 104.3/104.3 kB 6.3 MB/s eta 0:00:00\n",
      "Downloading geopandas-0.14.3-py3-none-any.whl (1.1 MB)\n",
      "   ---------------------------------------- 0.0/1.1 MB ? eta -:--:--\n",
      "   --------------------- ------------------ 0.6/1.1 MB 18.5 MB/s eta 0:00:01\n",
      "   ---------------------------------------- 1.1/1.1 MB 17.7 MB/s eta 0:00:00\n",
      "Downloading shapely-2.0.3-cp311-cp311-win_amd64.whl (1.4 MB)\n",
      "   ---------------------------------------- 0.0/1.4 MB ? eta -:--:--\n",
      "   ------------------------------- -------- 1.1/1.4 MB 24.2 MB/s eta 0:00:01\n",
      "   ---------------------------------------- 1.4/1.4 MB 23.1 MB/s eta 0:00:00\n",
      "Downloading fiona-1.9.5-cp311-cp311-win_amd64.whl (22.9 MB)\n",
      "   ---------------------------------------- 0.0/22.9 MB ? eta -:--:--\n",
      "   - -------------------------------------- 0.7/22.9 MB 15.7 MB/s eta 0:00:02\n",
      "   -- ------------------------------------- 1.4/22.9 MB 15.1 MB/s eta 0:00:02\n",
      "   ---- ----------------------------------- 2.5/22.9 MB 15.9 MB/s eta 0:00:02\n",
      "   ------ --------------------------------- 3.5/22.9 MB 18.4 MB/s eta 0:00:02\n",
      "   ------- -------------------------------- 4.4/22.9 MB 18.9 MB/s eta 0:00:01\n",
      "   --------- ------------------------------ 5.4/22.9 MB 20.2 MB/s eta 0:00:01\n",
      "   ----------- ---------------------------- 6.4/22.9 MB 20.5 MB/s eta 0:00:01\n",
      "   ------------ --------------------------- 7.4/22.9 MB 21.6 MB/s eta 0:00:01\n",
      "   -------------- ------------------------- 8.4/22.9 MB 22.4 MB/s eta 0:00:01\n",
      "   ----------------- ---------------------- 10.0/22.9 MB 22.8 MB/s eta 0:00:01\n",
      "   ------------------- -------------------- 11.3/22.9 MB 25.2 MB/s eta 0:00:01\n",
      "   --------------------- ------------------ 12.6/22.9 MB 27.3 MB/s eta 0:00:01\n",
      "   ------------------------ --------------- 13.8/22.9 MB 27.3 MB/s eta 0:00:01\n",
      "   -------------------------- ------------- 14.9/22.9 MB 27.3 MB/s eta 0:00:01\n",
      "   ---------------------------- ----------- 16.2/22.9 MB 28.5 MB/s eta 0:00:01\n",
      "   ------------------------------ --------- 17.3/22.9 MB 27.3 MB/s eta 0:00:01\n",
      "   ------------------------------- -------- 18.1/22.9 MB 25.1 MB/s eta 0:00:01\n",
      "   --------------------------------- ------ 19.3/22.9 MB 25.2 MB/s eta 0:00:01\n",
      "   ----------------------------------- ---- 20.4/22.9 MB 25.1 MB/s eta 0:00:01\n",
      "   ------------------------------------ --- 21.2/22.9 MB 24.2 MB/s eta 0:00:01\n",
      "   ---------------------------------------  22.5/22.9 MB 24.3 MB/s eta 0:00:01\n",
      "   ---------------------------------------  22.9/22.9 MB 24.2 MB/s eta 0:00:01\n",
      "   ---------------------------------------  22.9/22.9 MB 24.2 MB/s eta 0:00:01\n",
      "   ---------------------------------------- 22.9/22.9 MB 20.4 MB/s eta 0:00:00\n",
      "Downloading pyproj-3.6.1-cp311-cp311-win_amd64.whl (6.1 MB)\n",
      "   ---------------------------------------- 0.0/6.1 MB ? eta -:--:--\n",
      "   --------- ------------------------------ 1.5/6.1 MB 31.2 MB/s eta 0:00:01\n",
      "   ----------------- ---------------------- 2.6/6.1 MB 28.0 MB/s eta 0:00:01\n",
      "   ------------------------ --------------- 3.7/6.1 MB 29.5 MB/s eta 0:00:01\n",
      "   --------------------------- ------------ 4.2/6.1 MB 24.3 MB/s eta 0:00:01\n",
      "   --------------------------------- ------ 5.1/6.1 MB 24.9 MB/s eta 0:00:01\n",
      "   ---------------------------------------  6.0/6.1 MB 22.7 MB/s eta 0:00:01\n",
      "   ---------------------------------------- 6.1/6.1 MB 20.5 MB/s eta 0:00:00\n",
      "Downloading click_plugins-1.1.1-py2.py3-none-any.whl (7.5 kB)\n",
      "Downloading cligj-0.7.2-py3-none-any.whl (7.1 kB)\n",
      "Installing collected packages: shapely, pyproj, cligj, click-plugins, fiona, geopandas, osmnx\n",
      "Successfully installed click-plugins-1.1.1 cligj-0.7.2 fiona-1.9.5 geopandas-0.14.3 osmnx-1.9.1 pyproj-3.6.1 shapely-2.0.3\n",
      "Note: you may need to restart the kernel to use updated packages.\n"
     ]
    }
   ],
   "source": [
    "pip install osmnx"
   ]
  },
  {
   "cell_type": "code",
   "execution_count": 2,
   "metadata": {},
   "outputs": [],
   "source": [
    "import osmnx as ox\n",
    "import pandas as pd"
   ]
  },
  {
   "cell_type": "code",
   "execution_count": null,
   "metadata": {},
   "outputs": [],
   "source": [
    "# Define your study area (e.g., a city name or its geographical coordinates)\n",
    "city = \"New York City, New York, USA\"\n",
    "# Or you can specify a bounding box\n",
    "# north, south, east, west = 40.917577, 40.477399, -73.700272, -74.259090\n",
    "# Define the amenities you're interested in (e.g., \"grocery\")\n",
    "amenity = \"grocery\"\n",
    "# Retrieve the street network and amenities within the study area\n",
    "G = ox.graph_from_place(city, network_type='all', tags={'shop': amenity})\n",
    "# Convert the amenities to a GeoDataFrame\n",
    "amenities = ox.pois_from_place(city, tags={'shop': amenity})\n",
    "# Calculate the area of the study region\n",
    "area = ox.geocode_to_gdf(city).unary_union.area\n",
    "# Calculate the density of grocery stores\n",
    "density = len(amenities) / area\n",
    "print(f\"Density of {amenity} stores in {city}: {density} per square meter\")"
   ]
  },
  {
   "cell_type": "code",
   "execution_count": 3,
   "metadata": {},
   "outputs": [],
   "source": [
    "def get_me_amenity_density(amenity, administrative_boundary):\n",
    "    # Retrieve the street network and amenities within the study area\n",
    "    G = ox.graph_from_place(administrative_boundary, network_type='all', tags={'shop': amenity})\n",
    "    amenities = ox.pois_from_place(administrative_boundary, tags={'shop': amenity})\n",
    "    area = ox.geocode_to_gdf(city).unary_union.area\n",
    "    # Calculate the density of grocery stores\n",
    "    density = len(amenities) / area\n",
    "    print(f\"Density of {amenity} stores in {city}: {density} per square meter\")\n",
    "    return density"
   ]
  },
  {
   "cell_type": "code",
   "execution_count": null,
   "metadata": {},
   "outputs": [],
   "source": [
    "# import the dataframe for locations\n",
    "\n",
    "locations = []"
   ]
  },
  {
   "cell_type": "code",
   "execution_count": null,
   "metadata": {},
   "outputs": [],
   "source": [
    "# conglomerate densities\n",
    "densities = pd.DataFrame\n",
    "for administrative_boundary in locations:\n",
    "    densities.add(get_me_amenity_density('grocery', administrative_boundary))"
   ]
  },
  {
   "cell_type": "code",
   "execution_count": null,
   "metadata": {},
   "outputs": [],
   "source": [
    "# export densities\n",
    "pd.to_csv(densities)"
   ]
  },
  {
   "cell_type": "code",
   "execution_count": 6,
   "metadata": {},
   "outputs": [
    {
     "name": "stdout",
     "output_type": "stream",
     "text": [
      "Collecting overpass\n",
      "  Obtaining dependency information for overpass from https://files.pythonhosted.org/packages/62/4e/7a5aebe8db73394682f13548b9b016c815c7a9d5a38af3211d23c73a44c1/overpass-0.7-py3-none-any.whl.metadata\n",
      "  Downloading overpass-0.7-py3-none-any.whl.metadata (773 bytes)\n",
      "Requirement already satisfied: requests>=2.3.0 in c:\\users\\587ma\\anaconda3\\lib\\site-packages (from overpass) (2.31.0)\n",
      "Collecting geojson>=1.0.9 (from overpass)\n",
      "  Obtaining dependency information for geojson>=1.0.9 from https://files.pythonhosted.org/packages/8e/1b/4f57660aa148d3e3043d048b7e1ab87dfeb85204d0fdb5b4e19c08202162/geojson-3.1.0-py3-none-any.whl.metadata\n",
      "  Downloading geojson-3.1.0-py3-none-any.whl.metadata (16 kB)\n",
      "Requirement already satisfied: shapely>=1.6.4 in c:\\users\\587ma\\anaconda3\\lib\\site-packages (from overpass) (2.0.3)\n",
      "Requirement already satisfied: charset-normalizer<4,>=2 in c:\\users\\587ma\\anaconda3\\lib\\site-packages (from requests>=2.3.0->overpass) (2.0.4)\n",
      "Requirement already satisfied: idna<4,>=2.5 in c:\\users\\587ma\\anaconda3\\lib\\site-packages (from requests>=2.3.0->overpass) (3.4)\n",
      "Requirement already satisfied: urllib3<3,>=1.21.1 in c:\\users\\587ma\\anaconda3\\lib\\site-packages (from requests>=2.3.0->overpass) (1.26.16)\n",
      "Requirement already satisfied: certifi>=2017.4.17 in c:\\users\\587ma\\anaconda3\\lib\\site-packages (from requests>=2.3.0->overpass) (2023.7.22)\n",
      "Requirement already satisfied: numpy<2,>=1.14 in c:\\users\\587ma\\anaconda3\\lib\\site-packages (from shapely>=1.6.4->overpass) (1.24.3)\n",
      "Downloading overpass-0.7-py3-none-any.whl (10 kB)\n",
      "Downloading geojson-3.1.0-py3-none-any.whl (15 kB)\n",
      "Installing collected packages: geojson, overpass\n",
      "Successfully installed geojson-3.1.0 overpass-0.7\n",
      "Note: you may need to restart the kernel to use updated packages.\n"
     ]
    }
   ],
   "source": [
    "pip install overpass"
   ]
  },
  {
   "cell_type": "code",
   "execution_count": 14,
   "metadata": {},
   "outputs": [
    {
     "ename": "OverpassSyntaxError",
     "evalue": "[out:json];\n    [out:json];\n    (\n        relation[\"boundary\"=\"administrative\"][\"admin_level\"=4];\n    )\n    out geom;out body;",
     "output_type": "error",
     "traceback": [
      "\u001b[1;31m---------------------------------------------------------------------------\u001b[0m",
      "\u001b[1;31mOverpassSyntaxError\u001b[0m                       Traceback (most recent call last)",
      "Cell \u001b[1;32mIn[14], line 24\u001b[0m\n\u001b[0;32m     22\u001b[0m \u001b[38;5;66;03m# Example usage for administrative boundary level 4 (counties)\u001b[39;00m\n\u001b[0;32m     23\u001b[0m level \u001b[38;5;241m=\u001b[39m \u001b[38;5;241m4\u001b[39m\n\u001b[1;32m---> 24\u001b[0m county_boundaries \u001b[38;5;241m=\u001b[39m get_admin_boundaries(level)\n\u001b[0;32m     25\u001b[0m \u001b[38;5;28mprint\u001b[39m(county_boundaries)\n",
      "Cell \u001b[1;32mIn[14], line 15\u001b[0m, in \u001b[0;36mget_admin_boundaries\u001b[1;34m(level)\u001b[0m\n\u001b[0;32m      7\u001b[0m \u001b[38;5;66;03m# Query for administrative boundaries\u001b[39;00m\n\u001b[0;32m      8\u001b[0m query \u001b[38;5;241m=\u001b[39m \u001b[38;5;124mf\u001b[39m\u001b[38;5;124m\"\"\"\u001b[39m\n\u001b[0;32m      9\u001b[0m \u001b[38;5;124m[out:json];\u001b[39m\n\u001b[0;32m     10\u001b[0m \u001b[38;5;124m(\u001b[39m\n\u001b[1;32m   (...)\u001b[0m\n\u001b[0;32m     13\u001b[0m \u001b[38;5;124mout geom;\u001b[39m\n\u001b[0;32m     14\u001b[0m \u001b[38;5;124m\u001b[39m\u001b[38;5;124m\"\"\"\u001b[39m\n\u001b[1;32m---> 15\u001b[0m response \u001b[38;5;241m=\u001b[39m api\u001b[38;5;241m.\u001b[39mGet(query)\n\u001b[0;32m     17\u001b[0m \u001b[38;5;66;03m# Extract boundary geometries\u001b[39;00m\n\u001b[0;32m     18\u001b[0m boundaries \u001b[38;5;241m=\u001b[39m [feature[\u001b[38;5;124m'\u001b[39m\u001b[38;5;124mgeometry\u001b[39m\u001b[38;5;124m'\u001b[39m] \u001b[38;5;28;01mfor\u001b[39;00m feature \u001b[38;5;129;01min\u001b[39;00m response[\u001b[38;5;124m'\u001b[39m\u001b[38;5;124mfeatures\u001b[39m\u001b[38;5;124m'\u001b[39m]]\n",
      "File \u001b[1;32m~\\anaconda3\\Lib\\site-packages\\overpass\\api.py:97\u001b[0m, in \u001b[0;36mAPI.get\u001b[1;34m(self, query, responseformat, verbosity, build)\u001b[0m\n\u001b[0;32m     94\u001b[0m     logging\u001b[38;5;241m.\u001b[39mgetLogger()\u001b[38;5;241m.\u001b[39minfo(query)\n\u001b[0;32m     96\u001b[0m \u001b[38;5;66;03m# Get the response from Overpass\u001b[39;00m\n\u001b[1;32m---> 97\u001b[0m r \u001b[38;5;241m=\u001b[39m \u001b[38;5;28mself\u001b[39m\u001b[38;5;241m.\u001b[39m_get_from_overpass(full_query)\n\u001b[0;32m     98\u001b[0m content_type \u001b[38;5;241m=\u001b[39m r\u001b[38;5;241m.\u001b[39mheaders\u001b[38;5;241m.\u001b[39mget(\u001b[38;5;124m\"\u001b[39m\u001b[38;5;124mcontent-type\u001b[39m\u001b[38;5;124m\"\u001b[39m)\n\u001b[0;32m    100\u001b[0m \u001b[38;5;28;01mif\u001b[39;00m \u001b[38;5;28mself\u001b[39m\u001b[38;5;241m.\u001b[39mdebug:\n",
      "File \u001b[1;32m~\\anaconda3\\Lib\\site-packages\\overpass\\api.py:177\u001b[0m, in \u001b[0;36mAPI._get_from_overpass\u001b[1;34m(self, query)\u001b[0m\n\u001b[0;32m    175\u001b[0m \u001b[38;5;28;01mif\u001b[39;00m \u001b[38;5;28mself\u001b[39m\u001b[38;5;241m.\u001b[39m_status \u001b[38;5;241m!=\u001b[39m \u001b[38;5;241m200\u001b[39m:\n\u001b[0;32m    176\u001b[0m     \u001b[38;5;28;01mif\u001b[39;00m \u001b[38;5;28mself\u001b[39m\u001b[38;5;241m.\u001b[39m_status \u001b[38;5;241m==\u001b[39m \u001b[38;5;241m400\u001b[39m:\n\u001b[1;32m--> 177\u001b[0m         \u001b[38;5;28;01mraise\u001b[39;00m OverpassSyntaxError(query)\n\u001b[0;32m    178\u001b[0m     \u001b[38;5;28;01melif\u001b[39;00m \u001b[38;5;28mself\u001b[39m\u001b[38;5;241m.\u001b[39m_status \u001b[38;5;241m==\u001b[39m \u001b[38;5;241m429\u001b[39m:\n\u001b[0;32m    179\u001b[0m         \u001b[38;5;28;01mraise\u001b[39;00m MultipleRequestsError()\n",
      "\u001b[1;31mOverpassSyntaxError\u001b[0m: [out:json];\n    [out:json];\n    (\n        relation[\"boundary\"=\"administrative\"][\"admin_level\"=4];\n    )\n    out geom;out body;"
     ]
    }
   ],
   "source": [
    "import overpass\n",
    "\n",
    "def get_admin_boundaries(level):\n",
    "    # Initialize Overpass API\n",
    "    api = overpass.API()\n",
    "\n",
    "    # Query for administrative boundaries\n",
    "    query = f\"\"\"\n",
    "    [out:json];\n",
    "    (\n",
    "        relation[\"boundary\"=\"administrative\"][\"admin_level\"={level}];\n",
    "    )\n",
    "    out geom;\n",
    "    \"\"\"\n",
    "    response = api.Get(query)\n",
    "\n",
    "    # Extract boundary geometries\n",
    "    boundaries = [feature['geometry'] for feature in response['features']]\n",
    "\n",
    "    return boundaries\n",
    "\n",
    "# Example usage for administrative boundary level 4 (counties)\n",
    "level = 4\n",
    "county_boundaries = get_admin_boundaries(level)\n",
    "print(county_boundaries)\n"
   ]
  }
 ],
 "metadata": {
  "kernelspec": {
   "display_name": "Python 3 (ipykernel)",
   "language": "python",
   "name": "python3"
  },
  "language_info": {
   "codemirror_mode": {
    "name": "ipython",
    "version": 3
   },
   "file_extension": ".py",
   "mimetype": "text/x-python",
   "name": "python",
   "nbconvert_exporter": "python",
   "pygments_lexer": "ipython3",
   "version": "3.11.4"
  }
 },
 "nbformat": 4,
 "nbformat_minor": 2
}
